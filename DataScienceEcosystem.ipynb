{
 "cells": [
  {
   "attachments": {},
   "cell_type": "markdown",
   "id": "ba91d2cb-11bf-4c58-ac0b-3c482d768ab1",
   "metadata": {},
   "source": [
    "# Data Science Tools and Ecosystem "
   ]
  },
  {
   "cell_type": "markdown",
   "id": "c8ea8cdc-4844-43ab-8f0e-b469ec25b2c6",
   "metadata": {},
   "source": [
    "In this notebook, Data Science Tools and Ecosystem are summarized."
   ]
  },
  {
   "cell_type": "markdown",
   "id": "c19da0c1-4be7-441d-82f7-f1c0d5ffbd03",
   "metadata": {},
   "source": [
    "Some of the popular languages that Data Scientists use are:\n",
    "*  Python\n",
    "*  R\n",
    "*  SQL"
   ]
  },
  {
   "cell_type": "markdown",
   "id": "45ff9df2-40e7-4560-bfca-f3ccecb7b890",
   "metadata": {},
   "source": [
    "Some of the commonly used libraries used by Data Scientists include:\n",
    "1. Numpy\n",
    "2. Pandas\n",
    "3. Plotly\n",
    "4. Seaborn"
   ]
  },
  {
   "cell_type": "markdown",
   "id": "30af024c-fa8c-40ca-92ea-ff6fc1e830d2",
   "metadata": {},
   "source": [
    "|Data Science Tools | \n",
    "|------------------- |\n",
    "|TensorFlow |\n",
    "| Apache Hadoop |\n",
    "| Rstudio |"
   ]
  },
  {
   "cell_type": "markdown",
   "id": "6dd1e0a5-aa95-4143-bed6-ac32b76a16e8",
   "metadata": {},
   "source": [
    "### Below are a few examples of evaluating arithmetic expressions in Python"
   ]
  },
  {
   "cell_type": "code",
   "execution_count": 19,
   "id": "a109ddea-8e10-4a66-8946-7ff58ff583a4",
   "metadata": {},
   "outputs": [
    {
     "data": {
      "text/plain": [
       "17"
      ]
     },
     "execution_count": 19,
     "metadata": {},
     "output_type": "execute_result"
    }
   ],
   "source": [
    "(3*4)+5"
   ]
  },
  {
   "cell_type": "code",
   "execution_count": 23,
   "id": "e16e5a06-8d33-417d-ba71-78903e6ccdfd",
   "metadata": {},
   "outputs": [
    {
     "data": {
      "text/plain": [
       "3.3333333333333335"
      ]
     },
     "execution_count": 23,
     "metadata": {},
     "output_type": "execute_result"
    }
   ],
   "source": [
    "(200/60)\n",
    "#This will convert 200 minutes to hours by diving by 60\n"
   ]
  },
  {
   "cell_type": "markdown",
   "id": "e8c3bcf6-e23f-46f6-9776-b3f5137282d7",
   "metadata": {},
   "source": [
    " __Objectives:__  \n",
    "- Python\n",
    "- SQL\n",
    "- R"
   ]
  },
  {
   "cell_type": "markdown",
   "id": "569136d9-8ff3-4b0c-80c5-3366f9dcd528",
   "metadata": {},
   "source": [
    "## Author\n",
    "Kjartan Martinsson"
   ]
  },
  {
   "cell_type": "code",
   "execution_count": null,
   "id": "bf9df6af-1104-45f2-9fa5-f3fd3f1078e5",
   "metadata": {},
   "outputs": [],
   "source": []
  }
 ],
 "metadata": {
  "kernelspec": {
   "display_name": "Python 3 (ipykernel)",
   "language": "python",
   "name": "python3"
  },
  "language_info": {
   "codemirror_mode": {
    "name": "ipython",
    "version": 3
   },
   "file_extension": ".py",
   "mimetype": "text/x-python",
   "name": "python",
   "nbconvert_exporter": "python",
   "pygments_lexer": "ipython3",
   "version": "3.12.4"
  }
 },
 "nbformat": 4,
 "nbformat_minor": 5
}
